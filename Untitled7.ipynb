{
  "nbformat": 4,
  "nbformat_minor": 0,
  "metadata": {
    "colab": {
      "provenance": []
    },
    "kernelspec": {
      "name": "python3",
      "display_name": "Python 3"
    },
    "language_info": {
      "name": "python"
    }
  },
  "cells": [
    {
      "cell_type": "code",
      "execution_count": null,
      "metadata": {
        "id": "JGWs_VMGY3Pc"
      },
      "outputs": [],
      "source": []
    },
    {
      "cell_type": "markdown",
      "source": [
        "# Files, exceptional handling, logging and\n",
        "memory management Questions\n",
        "\n",
        "1.What is the difference between interpreted and compiled languages ?\n",
        "- Interpreted Languages:\n",
        "Interpretation Process: In an interpreted language, the source code is read and executed line-by-line by an interpreter at runtime. The interpreter translates the code into machine code on the fly, meaning the source code is not transformed into a separate machine code file beforehand.\n",
        "\n",
        "Execution: Every time you run the program, the interpreter must process the source code, so it’s slower than compiled code.\n",
        "\n",
        "Speed: Interpreted languages typically have slower execution speeds because the translation happens while the program is running.\n",
        "Compiled Languages:\n",
        "Compilation Process: In a compiled language, the source code is translated into machine code (binary) by a compiler before it is run. The compiler converts the entire program into an executable file, which can be run independently of the source code.\n",
        "\n",
        "Execution: Once compiled, the program can be executed multiple times without needing to be recompiled, as the machine code is already ready to run on the hardware.\n",
        "\n",
        "Speed: Compilation happens once, and after that, the program typically runs faster because it's already in machine code.\n",
        "2.What is exception handling in Python ?\n",
        "- Exception handling in Python is a mechanism that allows you to deal with errors or exceptional situations that may arise during the execution of a program. It helps in preventing the program from crashing when an error occurs by catching exceptions and handling them in a controlled manner.\n",
        "3. What is the purpose of the finally block in exception handling ?\n",
        "- The finally block in exception handling is used to define code that will always run, regardless of whether an exception was thrown or not. It ensures that certain cleanup operations are performed, like closing files, releasing resources, or disconnecting from a database, even if an error occurs in the try or except blocks.\n",
        "4.What is logging in Python ?\n",
        "- In Python, logging is a built-in module that provides a way to track and record events, such as errors, information, or debugging messages, during the execution of a program. It helps developers monitor the application's behavior and troubleshoot any issues that arise.\n",
        "\n",
        "The logging module provides a flexible framework for logging messages with different severity levels, which can be configured to output to different destinations, such as the console, files, or remote servers.\n",
        "5.What is the significance of the __del__ method in Python ?\n",
        "- In Python, the __del__ method is a special method that is called when an object is about to be destroyed (i.e., when it is about to be removed from memory). It serves as a destructor and is used to clean up resources before the object is deleted, such as closing files, releasing network connections, or deallocating any other resources that were acquired during the object's lifetime..Resource Cleanup: The __del__ method allows you to define custom cleanup behavior for objects. For example, you might want to close open files or network connections, or release any memory allocated by the object.\n",
        "\n",
        "Automatic Invocation: The __del__ method is invoked automatically by Python’s garbage collection system when an object is no longer referenced. However, the exact timing of when it will be called is not predictable, as Python uses reference counting and garbage collection to manage memory.\n",
        "\n",
        "Garbage Collection: Python uses reference counting and a garbage collector to manage memory. When an object's reference count drops to zero, it is marked for deletion. The __del__ method is called before the object is destroyed, allowing it to clean up any resources.\n",
        "6.What is the difference between import and from ... import in Python ?\n",
        "- 1. import statement:\n",
        "The import statement is used to import the entire module, and you can then access its functions, classes, or variables by referencing the module name.\n",
        "2. from ... import statement:\n",
        "The from ... import statement allows you to import specific elements (functions, classes, variables, etc.) from a module directly into the current namespace. This means you don't need to prefix them with the module name.\n",
        "7. How can you handle multiple exceptions in Python ?\n",
        "- 1. Using Multiple except Blocks\n",
        "2  Catching Multiple Exceptions in One Block\n",
        "3. Using else and finally for Additional Control\n",
        "8.  What is the purpose of the with statement when handling files in Python ?\n",
        "- The with statement in Python is used for resource management, particularly when working with files. It ensures that resources, like files, are properly cleaned up after their use, even if an error occurs during the operation. The main benefits of using with when handling files are:\n",
        "\n",
        "Automatic Cleanup: When you open a file using the with statement, Python ensures that the file is automatically closed when the block of code inside the with statement finishes executing, regardless of whether the operation succeeds or an error occurs. This prevents resource leaks like leaving files open.\n",
        "\n",
        "Improved Readability: The with statement makes your code cleaner and easier to read, as it encapsulates the process of opening and closing a file into a single, easy-to-understand block.\n",
        "9.What is the difference between multithreading and multiprocessing ?\n",
        "-Multithreading:\n",
        "Concept: Multithreading refers to the concurrent execution of more than one sequential set of instructions, or thread. All threads within a process share the same memory space.\n",
        "\n",
        "Memory Sharing: Since all threads within a process share the same memory space, communication between threads is easier and faster. However, this also introduces risks of data corruption or conflicts if proper synchronization isn't used.\n",
        "\n",
        "CPU Usage: Threads are lighter weight compared to processes. Threads share CPU time and can run concurrently, but they are still bound to a single CPU core (though they can be executed on different cores if the operating system supports it).\n",
        "\n",
        "Concurrency: Ideal for I/O-bound tasks (e.g., file reading, network communication) because threads can be paused and resumed while waiting for I/O operations to complete.\n",
        "\n",
        "Limitations: In Python, due to the Global Interpreter Lock (GIL), multithreading is limited in terms of CPU-bound tasks (tasks that require heavy computation), as only one thread can execute Python bytecode at a time.\n",
        "Multiprocessing:\n",
        "Concept: Multiprocessing involves running multiple processes, where each process has its own independent memory space. These processes run in parallel on different CPU cores.\n",
        "\n",
        "Memory Sharing: Processes do not share memory space, so they don't directly interfere with each other. However, inter-process communication (IPC) mechanisms (like pipes or shared memory) are needed to exchange data between processes, which can be slower than thread communication.\n",
        "\n",
        "CPU Usage: Each process can be executed on a separate core, making multiprocessing a good choice for CPU-bound tasks, where the task involves heavy computation.\n",
        "\n",
        "Concurrency: Ideal for CPU-bound tasks, as multiple processes can run truly in parallel (especially on multi-core processors).\n",
        "\n",
        "Limitations: Processes are heavier compared to threads, with more memory overhead due to the separate memory space, and setting up inter-process communication can be complex.\n",
        "10.What are the advantages of using logging in a program ?\n",
        "- 1. Debugging and Troubleshooting\n",
        "Track Errors: Logs capture errors, exceptions, and important events, making it easier to understand what went wrong. This is especially valuable in production environments where you can't directly interact with the running program.\n",
        "\n",
        "Contextual Information: Logs can capture additional contextual information (e.g., variables, function calls, and timestamps) that help pinpoint issues quickly.\n",
        "\n",
        "2. Audit Trails\n",
        "Security and Compliance: Logging provides an audit trail of events (e.g., user actions, system access) that may be necessary for security, monitoring, or regulatory compliance purposes.\n",
        "\n",
        "Traceability: In critical systems, logs can help you trace the sequence of actions that led to a specific outcome, which is vital for identifying unauthorized activities.\n",
        "\n",
        "3. Performance Monitoring\n",
        "Track Performance Metrics: Logging can help track how long specific tasks or functions take, allowing you to identify performance bottlenecks.\n",
        "\n",
        "Real-Time Monitoring: Logs can be used for real-time monitoring, where systems can alert you if certain thresholds (e.g., CPU usage, memory consumption) are exceeded.\n",
        "11. What is memory management in Python ?\n",
        "-Memory management in Python refers to the process of efficiently allocating, using, and deallocating memory during the execution of a Python program. Python handles memory management automatically, meaning that developers do not need to manually allocate or free memory. However, Python still provides several mechanisms for memory management, which helps to ensure that memory is used optimally.\n",
        "1. Automatic Memory Management\n",
        "Python uses a built-in garbage collector to automatically reclaim memory that is no longer in use. This means that when an object is no longer referenced, it can be safely deleted from memory.\n",
        "\n",
        "2. Reference Counting\n",
        "Every object in Python has an associated reference count, which tracks how many references there are to the object. When the reference count of an object drops to zero (i.e., no more references point to it), the object is considered garbage, and Python can free up its memory.\n",
        "12.  What are the basic steps involved in exception handling in Python ?\n",
        "- 1. Try Block\n",
        "The code that might cause an exception is placed inside a try block.\n",
        "\n",
        "Python will attempt to run the code in the try block.\n",
        "2. Except Block\n",
        "If an exception occurs in the try block, Python will jump to the except block.\n",
        "\n",
        "You can specify which exception you want to catch, or catch all exceptions.\n",
        "3. Else Block\n",
        "The else block runs if no exception occurs in the try block.\n",
        "\n",
        "It is optional but useful for executing code that should run only when no exceptions are raised.\n",
        "13. Why is memory management important in Python ?\n",
        "- Efficiency and Performance: Proper memory management ensures that a program runs efficiently, minimizing the risk of memory leaks or excessive memory usage. Without it, a Python program could become slow or unresponsive, especially when handling large datasets or running for extended periods.\n",
        "\n",
        "Avoiding Memory Leaks: If memory is allocated but not properly deallocated when it’s no longer needed, it can lead to memory leaks, where memory usage steadily increases, eventually causing the system to run out of memory.\n",
        "\n",
        "Resource Utilization: Python, like other programming languages, operates in environments where system resources (like RAM) are finite. Good memory management practices help ensure that the program uses resources effectively, allowing other programs or system processes to function smoothly.\n",
        "14. What is the role of try and except in exception handling ?\n",
        "- 1. try Block:\n",
        "The code inside the try block is executed first. If no error occurs, the program continues to execute normally.\n",
        "\n",
        "If an error or exception occurs during the execution of the try block, the program immediately jumps to the except block.\n",
        "\n",
        "2. except Block:\n",
        "If an exception occurs in the try block, the program jumps to the except block, where the exception is handled. This prevents the program from crashing and allows for a controlled response.\n",
        "\n",
        "You can specify the type of exception you want to catch (e.g., ValueError, ZeroDivisionError), or use a generic except to catch all exceptions.\n",
        "15.  How does Python's garbage collection system work ?\n",
        "- F How does Python's garbage collection system work\n",
        "\n",
        "ChatGPT said:\n",
        "Python's garbage collection (GC) system is designed to automatically manage memory by reclaiming memory that is no longer in use. The main component of Python's memory management system is its reference counting mechanism, but it also includes a cyclic garbage collector to handle more complex cases like circular references.  \n",
        "\n",
        "16.  What is the purpose of the else block in exception handling ?\n",
        "- In Python, the else block in exception handling is used to define code that should run if no exception is raised in the try block. It allows you to separate the normal flow of the program from the handling of exceptions.\n",
        "\n",
        "The try block contains the code that might raise an exception.\n",
        "\n",
        "The except block contains the code to handle the exception if one is raised.\n",
        "\n",
        "The else block runs if the try block does not raise any exceptions.\n",
        "17. What are the common logging levels in Python ?\n",
        "- DEBUG:\n",
        "\n",
        "Used for detailed diagnostic information, typically helpful for developers during debugging.\n",
        "\n",
        "Example: logger.debug(\"This is a debug message.\")\n",
        "\n",
        "INFO:\n",
        "\n",
        "Used for general information about the application's state or progress.\n",
        "\n",
        "Example: logger.info(\"Application has started.\")\n",
        "\n",
        "WARNING:\n",
        "\n",
        "Used for situations that are not errors but may indicate a potential problem or future issue.\n",
        "\n",
        "Example: logger.warning(\"This is a warning message.\")\n",
        "\n",
        "ERROR:\n",
        "\n",
        "Used to log error messages that indicate a problem that might cause a disruption in functionality.\n",
        "\n",
        "Example: logger.error(\"An error occurred during processing.\")\n",
        "\n",
        "CRITICAL:\n",
        "\n",
        "Used for severe errors that indicate a serious problem, potentially causing the application to crash or stop functioning.\n",
        "18. What is the difference between os.fork() and multiprocessing in Python ?.\n",
        "- Low-level system call: os.fork() is a low-level system call that creates a child process by duplicating the calling process. The new process is a copy of the parent process, except for the returned value of os.fork():\n",
        "\n",
        "In the parent process, os.fork() returns the process ID (PID) of the child.\n",
        "\n",
        "In the child process, it returns 0.\n",
        "\n",
        "OS-specific: os.fork() is only available on Unix-like systems (Linux, macOS). It doesn't work on Windows.\n",
        "\n",
        "No high-level abstractions: With os.fork(), you are responsible for managing the child process, synchronizing data, and handling inter-process communication (IPC) manually.\n",
        "\n",
        "Shared memory: The child process initially shares the same memory as the parent process, but due to a mechanism called \"copy-on-write,\" changes to the memory in either process are isolated after the fork.\n",
        "\n",
        "Not cross-platform: As mentioned, it only works on Unix-like systems. On Windows, the os.fork() method is not available.\n",
        "\n",
        "2. multiprocessing Module\n",
        "High-level abstraction: The multiprocessing module provides a higher-level API for creating and managing processes. It abstracts away the complexities of process creation and management, making it easier to work with parallelism in Python.\n",
        "\n",
        "Cross-platform: Unlike os.fork(), multiprocessing works across platforms, including Unix and Windows. It internally uses different methods to spawn processes depending on the operating system.\n",
        "19. What is the importance of closing a file in Python ?\n",
        "- Releasing System Resources: When you open a file, the operating system allocates resources (such as memory and file handles) to manage that file. If you don't close the file, those resources might not be released, leading to a potential memory leak or exhaustion of system resources.\n",
        "\n",
        "Saving Changes: If you write to a file, closing it ensures that all data is properly written and saved. When a file is closed, any buffered data is flushed to the disk, ensuring that the changes you've made are committed.\n",
        "\n",
        "Avoiding File Corruption: If you don't close the file properly, especially after writing, it can lead to file corruption. Closing ensures that all the data is correctly written and that no partial data is left.\n",
        "\n",
        "Allowing Other Processes to Access the File: When a file is opened and not closed, other programs or processes that want to access the same file might not be able to do so. Closing the file frees it up for other users or applications.\n",
        "\n",
        "Preventing Errors: In long-running programs, forgetting to close a file can lead to errors later on. For example, opening too many files without closing them might hit a file handle limit imposed by the operating system.\n",
        "20. What is the difference between file.read() and file.readline() in Python ?\n",
        "\n",
        "- 1. file.read()\n",
        "Purpose: Reads the entire contents of a file at once.\n",
        "\n",
        "Usage: It returns the entire file's content as a single string, which can be very large if the file is big.\n",
        "2. file.readline()\n",
        "Purpose: Reads one line from the file at a time.\n",
        "\n",
        "Usage: It returns a string containing the next line from the file. Each time you call readline(), it moves to the next line in the file. You can use this to read files line by line.\n",
        "21.  What is the logging module in Python used for ?\n",
        "- Logging Levels: The module supports different logging levels, allowing you to categorize messages by importance:\n",
        "\n",
        "DEBUG: Detailed information, typically useful for diagnosing problems.\n",
        "\n",
        "INFO: General information about the program’s operation (e.g., status updates).\n",
        "\n",
        "WARNING: Indicates that something unexpected happened, but the program is still running as expected.\n",
        "\n",
        "ERROR: Indicates a more serious problem that has occurred, but the program can continue running.\n",
        "\n",
        "CRITICAL: A very serious error that might cause the program to stop.\n",
        "\n",
        "Log Handlers: You can configure where the log messages are output, such as to the console, a file, or even a remote server. Common handlers include:\n",
        "\n",
        "StreamHandler: Sends log messages to the console or other output streams.\n",
        "\n",
        "FileHandler: Writes log messages to a file.\n",
        "22.  What is the os module in Python used for in file handling ?\n",
        "- The os module in Python is a powerful tool used for interacting with the operating system, particularly in areas such as file handling, directory operations, and process management. When it comes to file handling, the os module provides a variety of functions to perform tasks like creating, deleting, renaming files and directories, and checking for file existence\n",
        "23.  What are the challenges associated with memory management in Python ?\n",
        "- 1. Automatic Garbage Collection\n",
        "Python uses automatic memory management and garbage collection to handle memory allocation and deallocation. While this is convenient, it can lead to several challenges:\n",
        "\n",
        "Unpredictable Timing: Garbage collection happens in the background, and its timing is not always predictable. This can sometimes lead to memory spikes or performance bottlenecks.\n",
        "\n",
        "Circular References: Python's garbage collector can struggle with circular references (when objects reference each other in a cycle). Although Python’s GC system can identify and break such cycles, it’s not always perfect, and it can cause memory to be leaked if not handled properly.\n",
        "\n",
        "Overhead: Garbage collection adds overhead to the system, especially in memory-heavy applications. This can degrade performance, especially in real-time or low-latency systems.\n",
        "\n",
        "2. Memory Fragmentation\n",
        "Over time, as objects are created and destroyed in Python, memory can become fragmented. This happens because Python manages memory in small chunks or blocks (called arenas). Fragmentation can lead to inefficient use of memory, resulting in higher memory usage or slower performance due to increased allocation/deallocation operations.\n",
        "\n",
        "3. Dynamic Typing\n",
        "Python is dynamically typed, meaning that the type of a variable can change during runtime. This adds flexibility but also complexity in memory management:\n",
        "\n",
        "Object Overhead: Every object in Python includes additional overhead for type information and reference counting, which consumes more memory compared to statically typed languages.\n",
        "\n",
        "Dynamic Resizing: Lists, dictionaries, and other dynamic data structures are resized as needed, which can lead to inefficiencies in memory usage, particularly if the data structures grow too large or shrink too much.\n",
        "\n",
        "4. Reference Counting\n",
        "24. How do you raise an exception manually in Python ?\n",
        "-  1: Raising a built-in exception\n",
        "2: Raising a custom exception\n",
        "3: Raising an exception with conditional logic\n",
        "\n",
        "25. Why is it important to use multithreading in certain applications ?\n",
        "- 1. Improved Performance and Efficiency\n",
        "Parallel Execution: Multithreading allows an application to perform multiple tasks simultaneously. This is particularly useful for tasks that can be divided into smaller, independent sub-tasks, which can be executed in parallel across multiple CPU cores, improving overall throughput.\n",
        "\n",
        "Faster Execution: By splitting tasks into threads, an application can take full advantage of modern multi-core processors, leading to faster execution of certain operations.\n",
        "\n",
        "2. Better Resource Utilization\n",
        "CPU Core Utilization: On multi-core processors, multithreading allows tasks to be distributed across multiple cores, reducing idle time for each core. This optimizes the use of available hardware resources.\n",
        "\n",
        "Asynchronous I/O Operations: In applications that perform I/O-bound tasks (e.g., reading from a file, network communication), threads can be used to handle I/O operations while other threads continue processing, making the application more responsive.\n",
        "\n",
        "    ## Practical Questions\n",
        "\n",
        "1. How can you open a file for writing in Python and write a string to it ?\n",
        "\n",
        "\n"
      ],
      "metadata": {
        "id": "tNcCMWy-Y5C7"
      }
    },
    {
      "cell_type": "code",
      "source": [
        "# Open a file in write mode\n",
        "with open('example.txt', 'w') as file:\n",
        "    # Write a string to the file\n",
        "    file.write(\"Hello, this is a test string!\")\n"
      ],
      "metadata": {
        "id": "4T90POVerDT5"
      },
      "execution_count": 1,
      "outputs": []
    },
    {
      "cell_type": "markdown",
      "source": [
        "2.  Write a Python program to read the contents of a file and print each line ?"
      ],
      "metadata": {
        "id": "QOpO6BttrL22"
      }
    },
    {
      "cell_type": "code",
      "source": [
        "# Open the file in read mode\n",
        "file_name = 'your_file.txt'  # Replace with the path to your file\n",
        "\n",
        "try:\n",
        "    with open(file_name, 'r') as file:\n",
        "        # Read and print each line in the file\n",
        "        for line in file:\n",
        "            print(line.strip())  # strip() removes any leading/trailing whitespace\n",
        "except FileNotFoundError:\n",
        "    print(f\"The file {file_name} does not exist.\")\n",
        "except IOError:\n",
        "    print(\"An error occurred while reading the file.\")\n"
      ],
      "metadata": {
        "colab": {
          "base_uri": "https://localhost:8080/"
        },
        "id": "cXXw91VPrRiG",
        "outputId": "db695126-9367-4159-ddc2-a5a623b9d1e7"
      },
      "execution_count": 2,
      "outputs": [
        {
          "output_type": "stream",
          "name": "stdout",
          "text": [
            "The file your_file.txt does not exist.\n"
          ]
        }
      ]
    },
    {
      "cell_type": "markdown",
      "source": [
        "3.  How would you handle a case where the file doesn't exist while trying to open it for reading ?"
      ],
      "metadata": {
        "id": "aK4FJE7Grdcm"
      }
    },
    {
      "cell_type": "code",
      "source": [
        "try:\n",
        "    with open('file.txt', 'r') as file:\n",
        "        # Read the file contents\n",
        "        content = file.read()\n",
        "        print(content)\n",
        "except FileNotFoundError:\n",
        "    print(\"The file does not exist.\")\n"
      ],
      "metadata": {
        "colab": {
          "base_uri": "https://localhost:8080/"
        },
        "id": "HpFWGjbIrgf-",
        "outputId": "f95435b8-03ab-45b2-d6e3-33a96752cc44"
      },
      "execution_count": 3,
      "outputs": [
        {
          "output_type": "stream",
          "name": "stdout",
          "text": [
            "The file does not exist.\n"
          ]
        }
      ]
    },
    {
      "cell_type": "markdown",
      "source": [
        "4. Write a Python script that reads from one file and writes its content to another file ?"
      ],
      "metadata": {
        "id": "LwEktPMNroD8"
      }
    },
    {
      "cell_type": "code",
      "source": [
        "# Specify the names of the input and output files\n",
        "input_file = 'input.txt'\n",
        "output_file = 'output.txt'\n",
        "\n",
        "# Open the input file in read mode and the output file in write mode\n",
        "try:\n",
        "    with open(input_file, 'r') as infile:\n",
        "        content = infile.read()  # Read the content of the input file\n",
        "\n",
        "    with open(output_file, 'w') as outfile:\n",
        "        outfile.write(content)  # Write the content to the output file\n",
        "\n",
        "    print(f\"Content successfully copied from {input_file} to {output_file}\")\n",
        "\n",
        "except FileNotFoundError:\n",
        "    print(f\"Error: The file '{input_file}' was not found.\")\n",
        "except Exception as e:\n",
        "    print(f\"An error occurred: {e}\")\n"
      ],
      "metadata": {
        "colab": {
          "base_uri": "https://localhost:8080/"
        },
        "id": "VRjHQEwQrtgy",
        "outputId": "566cb5c9-cd72-41bb-a3d6-e289d915798f"
      },
      "execution_count": 4,
      "outputs": [
        {
          "output_type": "stream",
          "name": "stdout",
          "text": [
            "Error: The file 'input.txt' was not found.\n"
          ]
        }
      ]
    },
    {
      "cell_type": "markdown",
      "source": [
        "5. How would you catch and handle division by zero error in Python ?"
      ],
      "metadata": {
        "id": "kwugOXDNr3S4"
      }
    },
    {
      "cell_type": "code",
      "source": [
        "try:\n",
        "    # Code that might raise a ZeroDivisionError\n",
        "    result = 10 / 0\n",
        "except ZeroDivisionError:\n",
        "    # Handle the error\n",
        "    print(\"Error: Division by zero is not allowed.\")\n",
        "else:\n",
        "    # This block will run if no exception occurs\n",
        "    print(\"The result is:\", result)\n",
        "finally:\n",
        "    # This block will run no matter what\n",
        "    print(\"Execution complete.\")\n"
      ],
      "metadata": {
        "colab": {
          "base_uri": "https://localhost:8080/"
        },
        "id": "_QrQ94IPsBrv",
        "outputId": "32c6b1f2-b5e1-4936-ae83-1aedf27bb6f3"
      },
      "execution_count": 5,
      "outputs": [
        {
          "output_type": "stream",
          "name": "stdout",
          "text": [
            "Error: Division by zero is not allowed.\n",
            "Execution complete.\n"
          ]
        }
      ]
    },
    {
      "cell_type": "markdown",
      "source": [
        "6. Write a Python program that logs an error message to a log file when a division by zero exception occurs ?"
      ],
      "metadata": {
        "id": "IJ1V8jQ5sIqn"
      }
    },
    {
      "cell_type": "code",
      "source": [
        "import logging\n",
        "\n",
        "# Set up the logging configuration\n",
        "logging.basicConfig(\n",
        "    filename='error_log.txt',  # Log will be saved in 'error_log.txt'\n",
        "    level=logging.ERROR,       # Set the log level to ERROR\n",
        "    format='%(asctime)s - %(levelname)s - %(message)s',  # Format of the log message\n",
        ")\n",
        "\n",
        "def divide_numbers(a, b):\n",
        "    try:\n",
        "        result = a / b\n",
        "        return result\n",
        "    except ZeroDivisionError as e:\n",
        "        logging.error(f\"Error: Division by zero occurred. {e}\")\n",
        "        return None\n",
        "\n",
        "# Test the function with division by zero\n",
        "num1 = 10\n",
        "num2 = 0  # This will cause a ZeroDivisionError\n",
        "\n",
        "divide_numbers(num1, num2)\n"
      ],
      "metadata": {
        "colab": {
          "base_uri": "https://localhost:8080/"
        },
        "id": "W6uVdAbNsQFN",
        "outputId": "a58ad134-c46a-43c3-c68c-4e06a933293f"
      },
      "execution_count": 6,
      "outputs": [
        {
          "output_type": "stream",
          "name": "stderr",
          "text": [
            "ERROR:root:Error: Division by zero occurred. division by zero\n"
          ]
        }
      ]
    },
    {
      "cell_type": "markdown",
      "source": [
        "7.  How do you log information at different levels (INFO, ERROR, WARNING) in Python using the logging module ?\n"
      ],
      "metadata": {
        "id": "RRJm-kZpsYeM"
      }
    },
    {
      "cell_type": "markdown",
      "source": [],
      "metadata": {
        "id": "8L7R0HtpsgUF"
      }
    },
    {
      "cell_type": "code",
      "source": [
        "import logging\n",
        "\n",
        "# Configure the logging system\n",
        "logging.basicConfig(level=logging.DEBUG, format='%(asctime)s - %(levelname)s - %(message)s')\n",
        "\n",
        "# Logging at different levels\n",
        "logging.debug('This is a debug message')\n",
        "logging.info('This is an info message')\n",
        "logging.warning('This is a warning message')\n",
        "logging.error('This is an error message')\n",
        "logging.critical('This is a critical message')\n",
        ""
      ],
      "metadata": {
        "colab": {
          "base_uri": "https://localhost:8080/"
        },
        "id": "4XoZXxQysj_j",
        "outputId": "1f3dadd0-00a6-4ebc-c478-aac2ee518ddd"
      },
      "execution_count": 7,
      "outputs": [
        {
          "output_type": "stream",
          "name": "stderr",
          "text": [
            "WARNING:root:This is a warning message\n",
            "ERROR:root:This is an error message\n",
            "CRITICAL:root:This is a critical message\n"
          ]
        }
      ]
    },
    {
      "cell_type": "markdown",
      "source": [
        "8.  Write a program to handle a file opening error using exception handling ?"
      ],
      "metadata": {
        "id": "PEfoblRMssjq"
      }
    },
    {
      "cell_type": "code",
      "source": [
        "try:\n",
        "    # Attempt to open the file in read mode\n",
        "    file = open(\"example.txt\", \"r\")\n",
        "    print(\"File opened successfully!\")\n",
        "    # Perform operations on the file (e.g., read its contents)\n",
        "    content = file.read()\n",
        "    print(content)\n",
        "except FileNotFoundError:\n",
        "    # Handle the case where the file does not exist\n",
        "    print(\"Error: The file does not exist!\")\n",
        "except IOError:\n",
        "    # Handle other I/O errors (e.g., permission issues)\n",
        "    print(\"Error: There was a problem reading the file!\")\n",
        "finally:\n",
        "    # Ensure that the file is closed if it was opened successfully\n",
        "    try:\n",
        "        file.close()\n",
        "        print(\"File closed successfully!\")\n",
        "    except NameError:\n",
        "        print(\"No file was opened, so no need to close it.\")\n"
      ],
      "metadata": {
        "colab": {
          "base_uri": "https://localhost:8080/"
        },
        "id": "5eaLkCxxs1YX",
        "outputId": "bd98fa1b-9755-40ea-905b-630e11d48b9b"
      },
      "execution_count": 8,
      "outputs": [
        {
          "output_type": "stream",
          "name": "stdout",
          "text": [
            "File opened successfully!\n",
            "Hello, this is a test string!\n",
            "File closed successfully!\n"
          ]
        }
      ]
    },
    {
      "cell_type": "markdown",
      "source": [
        "9. How can you read a file line by line and store its content in a list in Python ?\n"
      ],
      "metadata": {
        "id": "mieqpS4qs7Du"
      }
    },
    {
      "cell_type": "code",
      "source": [
        "# Open the file in read mode\n",
        "with open('your_file.txt', 'r') as file:\n",
        "    # Read all lines and store them in a list\n",
        "    lines = file.readlines()\n",
        "\n",
        "# Strip any trailing newlines from each line\n",
        "lines = [line.strip() for line in lines]\n",
        "\n",
        "# Print the list of lines\n",
        "print\n"
      ],
      "metadata": {
        "colab": {
          "base_uri": "https://localhost:8080/",
          "height": 211
        },
        "id": "43qexXkItBFB",
        "outputId": "91e3c5f7-e250-46ca-d84a-ed4388a88e8f"
      },
      "execution_count": 9,
      "outputs": [
        {
          "output_type": "error",
          "ename": "FileNotFoundError",
          "evalue": "[Errno 2] No such file or directory: 'your_file.txt'",
          "traceback": [
            "\u001b[0;31m---------------------------------------------------------------------------\u001b[0m",
            "\u001b[0;31mFileNotFoundError\u001b[0m                         Traceback (most recent call last)",
            "\u001b[0;32m<ipython-input-9-15c61513bee8>\u001b[0m in \u001b[0;36m<cell line: 0>\u001b[0;34m()\u001b[0m\n\u001b[1;32m      1\u001b[0m \u001b[0;31m# Open the file in read mode\u001b[0m\u001b[0;34m\u001b[0m\u001b[0;34m\u001b[0m\u001b[0m\n\u001b[0;32m----> 2\u001b[0;31m \u001b[0;32mwith\u001b[0m \u001b[0mopen\u001b[0m\u001b[0;34m(\u001b[0m\u001b[0;34m'your_file.txt'\u001b[0m\u001b[0;34m,\u001b[0m \u001b[0;34m'r'\u001b[0m\u001b[0;34m)\u001b[0m \u001b[0;32mas\u001b[0m \u001b[0mfile\u001b[0m\u001b[0;34m:\u001b[0m\u001b[0;34m\u001b[0m\u001b[0;34m\u001b[0m\u001b[0m\n\u001b[0m\u001b[1;32m      3\u001b[0m     \u001b[0;31m# Read all lines and store them in a list\u001b[0m\u001b[0;34m\u001b[0m\u001b[0;34m\u001b[0m\u001b[0m\n\u001b[1;32m      4\u001b[0m     \u001b[0mlines\u001b[0m \u001b[0;34m=\u001b[0m \u001b[0mfile\u001b[0m\u001b[0;34m.\u001b[0m\u001b[0mreadlines\u001b[0m\u001b[0;34m(\u001b[0m\u001b[0;34m)\u001b[0m\u001b[0;34m\u001b[0m\u001b[0;34m\u001b[0m\u001b[0m\n\u001b[1;32m      5\u001b[0m \u001b[0;34m\u001b[0m\u001b[0m\n",
            "\u001b[0;31mFileNotFoundError\u001b[0m: [Errno 2] No such file or directory: 'your_file.txt'"
          ]
        }
      ]
    },
    {
      "cell_type": "markdown",
      "source": [
        "10. How can you append data to an existing file in Python ?\n"
      ],
      "metadata": {
        "id": "dibXaEDutGVp"
      }
    },
    {
      "cell_type": "code",
      "source": [
        "# Open the file in append mode\n",
        "with open('example.txt', 'a') as file:\n",
        "    # Write data to the file\n",
        "    file.write('This is the new data to append.\\n')\n"
      ],
      "metadata": {
        "id": "6ODK4dEvtMAO"
      },
      "execution_count": 10,
      "outputs": []
    },
    {
      "cell_type": "markdown",
      "source": [
        "11. Write a Python program that uses a try-except block to handle an error when attempting to access a\n",
        "dictionary key that doesn't exist ?"
      ],
      "metadata": {
        "id": "XyVJRfk0tQXe"
      }
    },
    {
      "cell_type": "code",
      "source": [
        "# Sample dictionary\n",
        "my_dict = {\"name\": \"Alice\", \"age\": 25, \"city\": \"New York\"}\n",
        "\n",
        "# Attempt to access a non-existing key\n",
        "key_to_access = \"address\"\n",
        "\n",
        "try:\n",
        "    # Trying to access the value of a non-existing key\n",
        "    value = my_dict[key_to_access]\n",
        "    print(f\"The value of '{key_to_access}' is: {value}\")\n",
        "except KeyError:\n",
        "    # Handle the case where the key does not exist\n",
        "    print\n"
      ],
      "metadata": {
        "id": "9yy_-zS5tUwr"
      },
      "execution_count": 12,
      "outputs": []
    },
    {
      "cell_type": "markdown",
      "source": [
        "12.  Write a program that demonstrates using multiple except blocks to handle different types of exceptions ?"
      ],
      "metadata": {
        "id": "UhbZKZCmtaIs"
      }
    },
    {
      "cell_type": "code",
      "source": [
        "def demo_exceptions():\n",
        "    try:\n",
        "        # Trying to divide by zero\n",
        "        x = 10 / 0\n",
        "    except ZeroDivisionError as e:\n",
        "        print(f\"Error: {e} - Cannot divide by zero.\")\n",
        "\n",
        "    try:\n",
        "        # Trying to open a file that doesn't exist\n",
        "        with open('non_existent_file.txt', 'r') as\n"
      ],
      "metadata": {
        "colab": {
          "base_uri": "https://localhost:8080/",
          "height": 106
        },
        "id": "ClDKdIyEtfkJ",
        "outputId": "9f0d1baf-11e3-4bc8-84be-ab9c114c9f4c"
      },
      "execution_count": 13,
      "outputs": [
        {
          "output_type": "error",
          "ename": "SyntaxError",
          "evalue": "invalid syntax (<ipython-input-13-1293e20ce499>, line 10)",
          "traceback": [
            "\u001b[0;36m  File \u001b[0;32m\"<ipython-input-13-1293e20ce499>\"\u001b[0;36m, line \u001b[0;32m10\u001b[0m\n\u001b[0;31m    with open('non_existent_file.txt', 'r') as\u001b[0m\n\u001b[0m                                              ^\u001b[0m\n\u001b[0;31mSyntaxError\u001b[0m\u001b[0;31m:\u001b[0m invalid syntax\n"
          ]
        }
      ]
    },
    {
      "cell_type": "markdown",
      "source": [
        "13. How would you check if a file exists before attempting to read it in Python ?\n"
      ],
      "metadata": {
        "id": "UWOhsYuntkdV"
      }
    },
    {
      "cell_type": "code",
      "source": [
        "import os\n",
        "\n",
        "file_path = 'example.txt'\n",
        "\n",
        "if os.path.exists(file_path):\n",
        "    with open(file_path, 'r') as file:\n",
        "        content = file.read()\n",
        "        print(content)\n",
        "else:\n",
        "    print(f\"The file {file_path} does not exist.\")\n"
      ],
      "metadata": {
        "colab": {
          "base_uri": "https://localhost:8080/"
        },
        "id": "XF0s2InhtuJo",
        "outputId": "e675902c-ded7-4988-89f5-81676d2bf0dd"
      },
      "execution_count": 14,
      "outputs": [
        {
          "output_type": "stream",
          "name": "stdout",
          "text": [
            "Hello, this is a test string!This is the new data to append.\n",
            "\n"
          ]
        }
      ]
    },
    {
      "cell_type": "markdown",
      "source": [
        "14.  Write a program that uses the logging module to log both informational and error messages ?\n"
      ],
      "metadata": {
        "id": "P_Onth9Dt3fW"
      }
    },
    {
      "cell_type": "code",
      "source": [
        "import logging\n",
        "\n",
        "# Setting up the logging configuration\n",
        "logging.basicConfig(\n",
        "    level=logging.DEBUG,  # Log level (DEBUG will capture everything, including INFO and ERROR)\n",
        "    format='%(asctime)s - %(levelname)s - %(message)s',\n",
        ")\n",
        "\n",
        "# Example of logging informational messages\n",
        "logging.info('This is an informational message.')\n",
        "\n",
        "# Example of logging error messages\n",
        "try:\n",
        "    x = 1 / 0  # This will raise a ZeroDivisionError\n",
        "except ZeroDivisionError as e:\n",
        "    logging.error(f'An error occurred: {e}')\n",
        "\n",
        "# Another informational message\n",
        "logging.info('The program has completed successfully.')\n"
      ],
      "metadata": {
        "colab": {
          "base_uri": "https://localhost:8080/"
        },
        "id": "mxgAbSUTuGMi",
        "outputId": "49017746-4d50-4095-c4ae-0a4d08c2e87c"
      },
      "execution_count": 15,
      "outputs": [
        {
          "output_type": "stream",
          "name": "stderr",
          "text": [
            "ERROR:root:An error occurred: division by zero\n"
          ]
        }
      ]
    },
    {
      "cell_type": "markdown",
      "source": [
        "15. Write a Python program that prints the content of a file and handles the case when the file is empty ?\n"
      ],
      "metadata": {
        "id": "j2Ujf6v0uLMB"
      }
    },
    {
      "cell_type": "code",
      "source": [
        "def print_file_content(file_path):\n",
        "    try:\n",
        "        with open(file_path, 'r') as file:\n",
        "            content = file.read()\n",
        "            if content:\n",
        "                print(content)\n",
        "            else:\n",
        "                print(\"The file is empty.\")\n",
        "    except FileNotFoundError:\n",
        "        print(f\"Error: The file '{file_path}' was not found.\")\n",
        "    except IOError:\n",
        "        print(f\"Error: Could not read the file '{file_path}'.\")\n",
        "\n",
        "# Example usage\n",
        "file_path = 'example.txt'  # Replace with your file path\n",
        "print_file_content(file_path)\n"
      ],
      "metadata": {
        "colab": {
          "base_uri": "https://localhost:8080/"
        },
        "id": "KC-CoRPXuTiQ",
        "outputId": "188072d1-1c37-4689-de77-4a6e14087c85"
      },
      "execution_count": 16,
      "outputs": [
        {
          "output_type": "stream",
          "name": "stdout",
          "text": [
            "Hello, this is a test string!This is the new data to append.\n",
            "\n"
          ]
        }
      ]
    },
    {
      "cell_type": "markdown",
      "source": [
        "16. Demonstrate how to use memory profiling to check the memory usage of a small program ?"
      ],
      "metadata": {
        "id": "FXac9XIvuWdX"
      }
    },
    {
      "cell_type": "code",
      "source": [
        "from memory_profiler import profile\n",
        "\n",
        "# A simple function to process numbers\n",
        "@profile\n",
        "def process_numbers():\n",
        "    data = [i for i in range(1000000)]  # Creating a large list\n",
        "    processed_data = [x * 2 for x in data]  # Doubling each number\n",
        "    return processed_data\n",
        "\n",
        "if __name__ == '__main__':\n",
        "    result = process_numbers()\n"
      ],
      "metadata": {
        "colab": {
          "base_uri": "https://localhost:8080/",
          "height": 383
        },
        "id": "kK48pjNKubW1",
        "outputId": "fb836e65-c9b6-4f40-ccdb-e0a8d14808e4"
      },
      "execution_count": 17,
      "outputs": [
        {
          "output_type": "error",
          "ename": "ModuleNotFoundError",
          "evalue": "No module named 'memory_profiler'",
          "traceback": [
            "\u001b[0;31m---------------------------------------------------------------------------\u001b[0m",
            "\u001b[0;31mModuleNotFoundError\u001b[0m                       Traceback (most recent call last)",
            "\u001b[0;32m<ipython-input-17-38de1a5923ec>\u001b[0m in \u001b[0;36m<cell line: 0>\u001b[0;34m()\u001b[0m\n\u001b[0;32m----> 1\u001b[0;31m \u001b[0;32mfrom\u001b[0m \u001b[0mmemory_profiler\u001b[0m \u001b[0;32mimport\u001b[0m \u001b[0mprofile\u001b[0m\u001b[0;34m\u001b[0m\u001b[0;34m\u001b[0m\u001b[0m\n\u001b[0m\u001b[1;32m      2\u001b[0m \u001b[0;34m\u001b[0m\u001b[0m\n\u001b[1;32m      3\u001b[0m \u001b[0;31m# A simple function to process numbers\u001b[0m\u001b[0;34m\u001b[0m\u001b[0;34m\u001b[0m\u001b[0m\n\u001b[1;32m      4\u001b[0m \u001b[0;34m@\u001b[0m\u001b[0mprofile\u001b[0m\u001b[0;34m\u001b[0m\u001b[0;34m\u001b[0m\u001b[0m\n\u001b[1;32m      5\u001b[0m \u001b[0;32mdef\u001b[0m \u001b[0mprocess_numbers\u001b[0m\u001b[0;34m(\u001b[0m\u001b[0;34m)\u001b[0m\u001b[0;34m:\u001b[0m\u001b[0;34m\u001b[0m\u001b[0;34m\u001b[0m\u001b[0m\n",
            "\u001b[0;31mModuleNotFoundError\u001b[0m: No module named 'memory_profiler'",
            "",
            "\u001b[0;31m---------------------------------------------------------------------------\u001b[0;32m\nNOTE: If your import is failing due to a missing package, you can\nmanually install dependencies using either !pip or !apt.\n\nTo view examples of installing some common dependencies, click the\n\"Open Examples\" button below.\n\u001b[0;31m---------------------------------------------------------------------------\u001b[0m\n"
          ],
          "errorDetails": {
            "actions": [
              {
                "action": "open_url",
                "actionText": "Open Examples",
                "url": "/notebooks/snippets/importing_libraries.ipynb"
              }
            ]
          }
        }
      ]
    },
    {
      "cell_type": "markdown",
      "source": [
        "17. \u0019F Write a Python program to create and write a list of numbers to a file, one number per line ?"
      ],
      "metadata": {
        "id": "3nKLsMq7undW"
      }
    },
    {
      "cell_type": "code",
      "source": [
        "# List of numbers to write to the file\n",
        "numbers = [1, 2, 3, 4, 5, 6, 7, 8, 9, 10]\n",
        "\n",
        "# Open a file in write mode\n",
        "with open(\"numbers.txt\", \"w\") as file:\n",
        "    # Loop through the list and write each number on a new line\n",
        "    for number in numbers:\n",
        "        file.write(str(number) + \"\\n\")\n",
        "\n",
        "print(\"Numbers have been written to 'numbers.txt'.\")\n"
      ],
      "metadata": {
        "colab": {
          "base_uri": "https://localhost:8080/"
        },
        "id": "Tf7wqM2cusLh",
        "outputId": "6c1ba766-1af9-4d5b-fe1f-2208fab15c94"
      },
      "execution_count": 18,
      "outputs": [
        {
          "output_type": "stream",
          "name": "stdout",
          "text": [
            "Numbers have been written to 'numbers.txt'.\n"
          ]
        }
      ]
    },
    {
      "cell_type": "markdown",
      "source": [
        "18. How would you implement a basic logging setup that logs to a file with rotation after 1MB ?\n"
      ],
      "metadata": {
        "id": "wNMVHF9puyDz"
      }
    },
    {
      "cell_type": "code",
      "source": [
        "import logging\n",
        "from logging.handlers import RotatingFileHandler\n",
        "\n",
        "# Set up a logger\n",
        "logger = logging.getLogger('MyLogger')\n",
        "logger.setLevel(logging.DEBUG)  # Adjust log level as needed\n",
        "\n",
        "# Create a RotatingFileHandler with a max file size of 1MB (1MB = 1024 * 1024 bytes)\n",
        "log_handler = RotatingFileHandler('app.log', maxBytes=1 * 1024 * 1024, backupCount=3)  # 3 backup files\n",
        "log_handler.setLevel(logging.DEBUG)\n",
        "\n",
        "# Create a log format\n",
        "log_format = logging.Formatter('%(asctime)s - %(name)s - %(levelname)s - %(message)s')\n",
        "log_handler.setFormatter(log_format)\n",
        "\n",
        "# Add the handler to the logger\n",
        "logger.addHandler(log_handler)\n",
        "\n",
        "# Example log messages\n",
        "logger.debug('This is a debug message.')\n",
        "logger.info('This is an info message.')\n",
        "logger.warning('This is a warning message.')\n",
        "logger.error('This is an error message.')\n",
        "logger.critical('This is a critical message.')\n"
      ],
      "metadata": {
        "colab": {
          "base_uri": "https://localhost:8080/"
        },
        "id": "AQBS_FRqu2v6",
        "outputId": "c7bab3ef-6231-4278-a358-08ce698d74bf"
      },
      "execution_count": 19,
      "outputs": [
        {
          "output_type": "stream",
          "name": "stderr",
          "text": [
            "DEBUG:MyLogger:This is a debug message.\n",
            "INFO:MyLogger:This is an info message.\n",
            "WARNING:MyLogger:This is a warning message.\n",
            "ERROR:MyLogger:This is an error message.\n",
            "CRITICAL:MyLogger:This is a critical message.\n"
          ]
        }
      ]
    },
    {
      "cell_type": "markdown",
      "source": [
        "19. Write a program that handles both IndexError and KeyError using a try-except block ?"
      ],
      "metadata": {
        "id": "8yBDFFb6u6_4"
      }
    },
    {
      "cell_type": "markdown",
      "source": [],
      "metadata": {
        "id": "KDUtJFqcvAZY"
      }
    },
    {
      "cell_type": "code",
      "source": [
        "def handle_errors():\n",
        "    my_list = [1, 2, 3]\n",
        "    my_dict = {'a': 1, 'b': 2}\n",
        "\n",
        "    try:\n",
        "        # Attempting to access an index in the list and a key in the dictionary\n",
        "        print(my_list[5])  # This will cause an IndexError\n",
        "        print(my_dict['c'])  # This will cause a KeyError\n",
        "\n",
        "    except IndexError as e:\n",
        "        print(f\"IndexError: {e} - List index\n"
      ],
      "metadata": {
        "colab": {
          "base_uri": "https://localhost:8080/",
          "height": 106
        },
        "id": "WO5eL63AvAtt",
        "outputId": "76289239-d23e-4a20-9151-e875a0396f0c"
      },
      "execution_count": 20,
      "outputs": [
        {
          "output_type": "error",
          "ename": "SyntaxError",
          "evalue": "unterminated string literal (detected at line 11) (<ipython-input-20-2ff18f676ddb>, line 11)",
          "traceback": [
            "\u001b[0;36m  File \u001b[0;32m\"<ipython-input-20-2ff18f676ddb>\"\u001b[0;36m, line \u001b[0;32m11\u001b[0m\n\u001b[0;31m    print(f\"IndexError: {e} - List index\u001b[0m\n\u001b[0m          ^\u001b[0m\n\u001b[0;31mSyntaxError\u001b[0m\u001b[0;31m:\u001b[0m unterminated string literal (detected at line 11)\n"
          ]
        }
      ]
    },
    {
      "cell_type": "markdown",
      "source": [
        "20.  How would you open a file and read its contents using a context manager in Python ?"
      ],
      "metadata": {
        "id": "mQXC6POPvFMC"
      }
    },
    {
      "cell_type": "code",
      "source": [
        "# Open a file and read its contents using a context manager\n",
        "with open('filename.txt', 'r') as file:\n",
        "    content = file.read()\n",
        "    print(content)\n"
      ],
      "metadata": {
        "colab": {
          "base_uri": "https://localhost:8080/",
          "height": 193
        },
        "id": "xHQVXYCXvLc3",
        "outputId": "96bb6620-7963-432f-dd85-d08b015a0650"
      },
      "execution_count": 21,
      "outputs": [
        {
          "output_type": "error",
          "ename": "FileNotFoundError",
          "evalue": "[Errno 2] No such file or directory: 'filename.txt'",
          "traceback": [
            "\u001b[0;31m---------------------------------------------------------------------------\u001b[0m",
            "\u001b[0;31mFileNotFoundError\u001b[0m                         Traceback (most recent call last)",
            "\u001b[0;32m<ipython-input-21-148afcdf5db0>\u001b[0m in \u001b[0;36m<cell line: 0>\u001b[0;34m()\u001b[0m\n\u001b[1;32m      1\u001b[0m \u001b[0;31m# Open a file and read its contents using a context manager\u001b[0m\u001b[0;34m\u001b[0m\u001b[0;34m\u001b[0m\u001b[0m\n\u001b[0;32m----> 2\u001b[0;31m \u001b[0;32mwith\u001b[0m \u001b[0mopen\u001b[0m\u001b[0;34m(\u001b[0m\u001b[0;34m'filename.txt'\u001b[0m\u001b[0;34m,\u001b[0m \u001b[0;34m'r'\u001b[0m\u001b[0;34m)\u001b[0m \u001b[0;32mas\u001b[0m \u001b[0mfile\u001b[0m\u001b[0;34m:\u001b[0m\u001b[0;34m\u001b[0m\u001b[0;34m\u001b[0m\u001b[0m\n\u001b[0m\u001b[1;32m      3\u001b[0m     \u001b[0mcontent\u001b[0m \u001b[0;34m=\u001b[0m \u001b[0mfile\u001b[0m\u001b[0;34m.\u001b[0m\u001b[0mread\u001b[0m\u001b[0;34m(\u001b[0m\u001b[0;34m)\u001b[0m\u001b[0;34m\u001b[0m\u001b[0;34m\u001b[0m\u001b[0m\n\u001b[1;32m      4\u001b[0m     \u001b[0mprint\u001b[0m\u001b[0;34m(\u001b[0m\u001b[0mcontent\u001b[0m\u001b[0;34m)\u001b[0m\u001b[0;34m\u001b[0m\u001b[0;34m\u001b[0m\u001b[0m\n",
            "\u001b[0;31mFileNotFoundError\u001b[0m: [Errno 2] No such file or directory: 'filename.txt'"
          ]
        }
      ]
    },
    {
      "cell_type": "markdown",
      "source": [
        "21. Write a Python program that reads a file and prints the number of occurrences of a specific word ?\n"
      ],
      "metadata": {
        "id": "8YoGLrkNvSyK"
      }
    },
    {
      "cell_type": "code",
      "source": [
        "def count_word_in_file(filename, word):\n",
        "    try:\n",
        "        with open(filename, 'r') as file:\n",
        "            text = file.read()\n",
        "\n",
        "        # Count occurrences of the word\n",
        "        word_count = text.lower().split().count(word.lower())\n",
        "\n",
        "        print(f\"The word '{word}' appears {word_count} times in the file.\")\n",
        "\n",
        "    except FileNotFoundError:\n",
        "        print(f\"The file '{filename}' was not found.\")\n",
        "    except Exception as e:\n",
        "        print(f\"An error occurred: {e}\")\n",
        "\n",
        "# Example usage\n",
        "filename = input(\"Enter the file name: \")\n",
        "word = input(\"Enter the word to count: \")\n",
        "\n",
        "count_word_in_file(filename, word)\n"
      ],
      "metadata": {
        "id": "zmp1jhbJvaMU"
      },
      "execution_count": null,
      "outputs": []
    },
    {
      "cell_type": "markdown",
      "source": [
        "22. How can you check if a file is empty before attempting to read its contents ?"
      ],
      "metadata": {
        "id": "mA653cBZvb5i"
      }
    },
    {
      "cell_type": "code",
      "source": [
        "import os\n",
        "\n",
        "file_path = 'your_file.txt'\n",
        "\n",
        "# Check if the file is empty by checking its size\n",
        "if os.stat(file_path).st_size == 0:\n",
        "    print(\"The file is empty.\")\n",
        "else:\n",
        "    print(\"The file is not empty.\")\n"
      ],
      "metadata": {
        "id": "QU7mGHYLvg6N"
      },
      "execution_count": null,
      "outputs": []
    },
    {
      "cell_type": "markdown",
      "source": [
        "23. Write a Python program that writes to a log file when an error occurs during file handling. ?\n"
      ],
      "metadata": {
        "id": "vN4h2_K-vlUL"
      }
    },
    {
      "cell_type": "code",
      "source": [
        "import logging\n",
        "\n",
        "# Set up the logging configuration\n",
        "logging.basicConfig(filename='file_handling_error.log', level=logging.ERROR,\n",
        "                    format='%(asctime)s - %(levelname)s - %(message)s')\n",
        "\n",
        "def read_file(file_path):\n",
        "    try:\n",
        "        with open(file_path, 'r') as file:\n",
        "            content = file.read()\n",
        "            print(content)\n",
        "    except FileNotFoundError as e:\n",
        "        logging.error(f\"File not found: {\n"
      ],
      "metadata": {
        "id": "WAnNWXTWvq3x"
      },
      "execution_count": null,
      "outputs": []
    }
  ]
}